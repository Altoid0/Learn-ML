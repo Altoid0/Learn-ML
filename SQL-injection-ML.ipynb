{
 "cells": [
  {
   "cell_type": "markdown",
   "metadata": {},
   "source": [
    "# SQL Injection Classification"
   ]
  },
  {
   "cell_type": "markdown",
   "metadata": {},
   "source": [
    "The following notebook contains the code used for exploratotry data analysis and model building for our SQL injection detection model. The dataset used is the [SQL Injection Detection](https://www.kaggle.com/datasets/gambleryu/biggest-sql-injection-dataset) dataset from Kaggle. The dataset contains 148326 rows of data with 2 columns, one for the SQL query and the other for the label. The label is binary, with 1 indicating that the query is a SQL injection and 0 indicating that the query is not a SQL injection.`"
   ]
  },
  {
   "cell_type": "code",
   "execution_count": 1,
   "metadata": {},
   "outputs": [],
   "source": [
    "import pandas as pd"
   ]
  },
  {
   "cell_type": "code",
   "execution_count": 15,
   "metadata": {},
   "outputs": [],
   "source": [
    "raw_df = pd.read_csv('clean_sql_dataset.csv')"
   ]
  },
  {
   "cell_type": "code",
   "execution_count": 16,
   "metadata": {},
   "outputs": [
    {
     "data": {
      "text/html": [
       "<div>\n",
       "<style scoped>\n",
       "    .dataframe tbody tr th:only-of-type {\n",
       "        vertical-align: middle;\n",
       "    }\n",
       "\n",
       "    .dataframe tbody tr th {\n",
       "        vertical-align: top;\n",
       "    }\n",
       "\n",
       "    .dataframe thead th {\n",
       "        text-align: right;\n",
       "    }\n",
       "</style>\n",
       "<table border=\"1\" class=\"dataframe\">\n",
       "  <thead>\n",
       "    <tr style=\"text-align: right;\">\n",
       "      <th></th>\n",
       "      <th>Query</th>\n",
       "      <th>Label</th>\n",
       "    </tr>\n",
       "  </thead>\n",
       "  <tbody>\n",
       "    <tr>\n",
       "      <th>0</th>\n",
       "      <td>\" or pg_sleep  (  __TIME__  )  --</td>\n",
       "      <td>1</td>\n",
       "    </tr>\n",
       "    <tr>\n",
       "      <th>1</th>\n",
       "      <td>create user name identified by pass123 tempora...</td>\n",
       "      <td>1</td>\n",
       "    </tr>\n",
       "    <tr>\n",
       "      <th>2</th>\n",
       "      <td>AND 1  =  utl_inaddr.get_host_address   (    ...</td>\n",
       "      <td>1</td>\n",
       "    </tr>\n",
       "    <tr>\n",
       "      <th>3</th>\n",
       "      <td>select * from users where id  =  '1' or @ @1 ...</td>\n",
       "      <td>1</td>\n",
       "    </tr>\n",
       "    <tr>\n",
       "      <th>4</th>\n",
       "      <td>select * from users where id  =  1 or 1#\"  ( ...</td>\n",
       "      <td>1</td>\n",
       "    </tr>\n",
       "    <tr>\n",
       "      <th>...</th>\n",
       "      <td>...</td>\n",
       "      <td>...</td>\n",
       "    </tr>\n",
       "    <tr>\n",
       "      <th>148321</th>\n",
       "      <td>5555555555555555555555555555555555555555555555...</td>\n",
       "      <td>0</td>\n",
       "    </tr>\n",
       "    <tr>\n",
       "      <th>148322</th>\n",
       "      <td>0521094088709893969415119606172279713007042396...</td>\n",
       "      <td>0</td>\n",
       "    </tr>\n",
       "    <tr>\n",
       "      <th>148323</th>\n",
       "      <td></td>\n",
       "      <td>0</td>\n",
       "    </tr>\n",
       "    <tr>\n",
       "      <th>148324</th>\n",
       "      <td>\"or 1=1</td>\n",
       "      <td>1</td>\n",
       "    </tr>\n",
       "    <tr>\n",
       "      <th>148325</th>\n",
       "      <td>'or 1=1</td>\n",
       "      <td>1</td>\n",
       "    </tr>\n",
       "  </tbody>\n",
       "</table>\n",
       "<p>148326 rows × 2 columns</p>\n",
       "</div>"
      ],
      "text/plain": [
       "                                                    Query  Label\n",
       "0                       \" or pg_sleep  (  __TIME__  )  --      1\n",
       "1       create user name identified by pass123 tempora...      1\n",
       "2        AND 1  =  utl_inaddr.get_host_address   (    ...      1\n",
       "3        select * from users where id  =  '1' or @ @1 ...      1\n",
       "4        select * from users where id  =  1 or 1#\"  ( ...      1\n",
       "...                                                   ...    ...\n",
       "148321  5555555555555555555555555555555555555555555555...      0\n",
       "148322  0521094088709893969415119606172279713007042396...      0\n",
       "148323                                                         0\n",
       "148324                                            \"or 1=1      1\n",
       "148325                                            'or 1=1      1\n",
       "\n",
       "[148326 rows x 2 columns]"
      ]
     },
     "execution_count": 16,
     "metadata": {},
     "output_type": "execute_result"
    }
   ],
   "source": [
    "raw_df"
   ]
  },
  {
   "cell_type": "code",
   "execution_count": 17,
   "metadata": {},
   "outputs": [
    {
     "name": "stdout",
     "output_type": "stream",
     "text": [
      "<class 'pandas.core.frame.DataFrame'>\n",
      "RangeIndex: 148326 entries, 0 to 148325\n",
      "Data columns (total 2 columns):\n",
      " #   Column  Non-Null Count   Dtype \n",
      "---  ------  --------------   ----- \n",
      " 0   Query   148326 non-null  object\n",
      " 1   Label   148326 non-null  int64 \n",
      "dtypes: int64(1), object(1)\n",
      "memory usage: 2.3+ MB\n"
     ]
    }
   ],
   "source": [
    "raw_df.info()"
   ]
  },
  {
   "cell_type": "markdown",
   "metadata": {},
   "source": [
    "Might be worth it to try and find the count of each target string in the dataset to see if there are any noticable correlations between the target count and the query.\n",
    "Some SQLi queries use a lot of `char (` and `chr (` functions."
   ]
  },
  {
   "cell_type": "code",
   "execution_count": 19,
   "metadata": {},
   "outputs": [
    {
     "name": "stderr",
     "output_type": "stream",
     "text": [
      "<>:13: SyntaxWarning: invalid escape sequence '\\*'\n",
      "<>:16: SyntaxWarning: invalid escape sequence '\\s'\n",
      "<>:17: SyntaxWarning: invalid escape sequence '\\s'\n",
      "<>:18: SyntaxWarning: invalid escape sequence '\\s'\n",
      "<>:19: SyntaxWarning: invalid escape sequence '\\s'\n",
      "<>:13: SyntaxWarning: invalid escape sequence '\\*'\n",
      "<>:16: SyntaxWarning: invalid escape sequence '\\s'\n",
      "<>:17: SyntaxWarning: invalid escape sequence '\\s'\n",
      "<>:18: SyntaxWarning: invalid escape sequence '\\s'\n",
      "<>:19: SyntaxWarning: invalid escape sequence '\\s'\n",
      "C:\\Users\\A0\\AppData\\Local\\Temp\\ipykernel_23280\\2766315428.py:13: SyntaxWarning: invalid escape sequence '\\*'\n",
      "  labeled_df['contains_ASTERISK'] = labeled_df['Query'].str.contains('\\*', case=False, na=False).astype(int)\n",
      "C:\\Users\\A0\\AppData\\Local\\Temp\\ipykernel_23280\\2766315428.py:16: SyntaxWarning: invalid escape sequence '\\s'\n",
      "  labeled_df['contains_CHAR'] = labeled_df['Query'].str.contains('char\\s*\\(', case=False, na=False).astype(int)\n",
      "C:\\Users\\A0\\AppData\\Local\\Temp\\ipykernel_23280\\2766315428.py:17: SyntaxWarning: invalid escape sequence '\\s'\n",
      "  labeled_df['count_CHAR'] = labeled_df['Query'].str.count('char\\s*\\(').fillna(0).astype(int)\n",
      "C:\\Users\\A0\\AppData\\Local\\Temp\\ipykernel_23280\\2766315428.py:18: SyntaxWarning: invalid escape sequence '\\s'\n",
      "  labeled_df['contains_CHR'] = labeled_df['Query'].str.contains('chr\\s*\\(', case=False, na=False).astype(int)\n",
      "C:\\Users\\A0\\AppData\\Local\\Temp\\ipykernel_23280\\2766315428.py:19: SyntaxWarning: invalid escape sequence '\\s'\n",
      "  labeled_df['count_CHR'] = labeled_df['Query'].str.count('chr\\s*\\(').fillna(0).astype(int)\n"
     ]
    }
   ],
   "source": [
    "labeled_df = raw_df.copy()\n",
    "labeled_df['contains_AND'] = labeled_df['Query'].str.contains('AND', case=False, na=False).astype(int)\n",
    "labeled_df['contains_OR'] = labeled_df['Query'].str.contains('OR', case=False, na=False).astype(int)\n",
    "labeled_df['contains_EQUAL'] = labeled_df['Query'].str.contains('=', case=False, na=False).astype(int)\n",
    "labeled_df['contains_SEMICOLON'] = labeled_df['Query'].str.contains(';', case=False, na=False).astype(int)\n",
    "labeled_df['contains_UNION'] = labeled_df['Query'].str.contains('UNION', case=False, na=False).astype(int)\n",
    "labeled_df['contains_AT'] = labeled_df['Query'].str.contains('@', case=False, na=False).astype(int)\n",
    "labeled_df['count_AT'] = labeled_df['Query'].str.count('@').fillna(0).astype(int)\n",
    "labeled_df['contains_SELECT'] = labeled_df['Query'].str.contains('SELECT', case=False, na=False).astype(int)\n",
    "labeled_df['contains_INSERT'] = labeled_df['Query'].str.contains('INSERT', case=False, na=False).astype(int)\n",
    "labeled_df['contains_UPDATE'] = labeled_df['Query'].str.contains('UPDATE', case=False, na=False).astype(int)\n",
    "labeled_df['contains_DELETE'] = labeled_df['Query'].str.contains('DELETE', case=False, na=False).astype(int)\n",
    "labeled_df['contains_ASTERISK'] = labeled_df['Query'].str.contains('\\*', case=False, na=False).astype(int)\n",
    "labeled_df['contains_CONCAT'] = labeled_df['Query'].str.contains('CONCAT', case=False, na=False).astype(int)\n",
    "labeled_df['contains_SLEEP'] = labeled_df['Query'].str.contains('SLEEP', case=False, na=False).astype(int)\n",
    "labeled_df['contains_CHAR'] = labeled_df['Query'].str.contains('char\\s*\\(', case=False, na=False).astype(int)\n",
    "labeled_df['count_CHAR'] = labeled_df['Query'].str.count('char\\s*\\(').fillna(0).astype(int)\n",
    "labeled_df['contains_CHR'] = labeled_df['Query'].str.contains('chr\\s*\\(', case=False, na=False).astype(int)\n",
    "labeled_df['count_CHR'] = labeled_df['Query'].str.count('chr\\s*\\(').fillna(0).astype(int)\n",
    "labeled_df['length'] = labeled_df['Query'].str.len()"
   ]
  }
 ],
 "metadata": {
  "kernelspec": {
   "display_name": ".venv",
   "language": "python",
   "name": "python3"
  },
  "language_info": {
   "codemirror_mode": {
    "name": "ipython",
    "version": 3
   },
   "file_extension": ".py",
   "mimetype": "text/x-python",
   "name": "python",
   "nbconvert_exporter": "python",
   "pygments_lexer": "ipython3",
   "version": "3.12.6"
  }
 },
 "nbformat": 4,
 "nbformat_minor": 2
}
